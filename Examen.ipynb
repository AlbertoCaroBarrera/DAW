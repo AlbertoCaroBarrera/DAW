{
 "cells": [
  {
   "attachments": {},
   "cell_type": "markdown",
   "metadata": {},
   "source": [
    "El juego del buscaminas es un juego lógico de un solo jugador cuyo objetivo es despejar un campo de minas sin detonar ninguna de ellas. Cuando el juego comienza se le presenta al jugador un tablero cuadrado con todas las casillas ocultas. El jugador va descubriendo esas casillas una a una; si la casilla elegida ocultaba una mina, el jugador ha perdido; si la casilla elegida no ocultaba una mina, entonces se le muestra al jugador el número de minas ocultas en las ocho (o cinco o tres, según la posición) casillas adyacentes. El jugador también tiene la posibilidad de marcar con una bandera cualquier casilla que piense que oculta una mina, o de desmarcar una casilla marcada si piensa que no oculta una mina.\n",
    "\n",
    "Una clase CampoDeMinas con los siguientes atributos públicos\n",
    "dimensión: guarda la dimensión del tablero de juego como un número entero positivo.\n",
    "tablero: guarda el tablero de juego como una matriz cuadrada cuyos elementos son tuplas de la forma (estado, contenido), donde estado puede ser una de las tres cadenas 'O' (la casilla está oculta), 'B' (la casilla está marcada con una bandera) o 'D' (la casilla está descubierta) y contenido es un valor lógico indicando si la casilla contiene o no una mina.\n",
    "y métodos públicos\n",
    "inicializar: establece el tablero inicial del juego, dados su dimensión y la lista de casillas que contienen una mina. Téngase en cuenta que inicialmente todas las casillas del tablero están ocultas.\n",
    "estado_casilla: devuelve el estado de la casilla especificada. \n",
    "valor_casilla: si la casilla especificada contiene una mina, entonces devuelve -1; en caso contrario, devuelve el número de minas que hay en las casillas adyacentes.\n",
    "representar: devuelve una representación del tablero, donde cada fila se representa en una línea diferente, las casilla ocultas se representan por la letra O, las casillas marcadas se representan por la letra B, las casillas descubiertas que contienen una mina se representan por la letra M y las que no la contienen por el número de minas de las casillas adyacentes.\n",
    "\n",
    "Una clase Buscaminas que herede de la clase anterior y añada los métodos públicos\n",
    "marcar_casilla: marca con una bandera la casilla especificada; en caso de que esta no este oculta, no se puede marcar.\n",
    "desmarcar_casilla: desmarca con una bandera la casilla especificada; en caso de que esta no esté marcada, no se puede desmarcar.\n",
    "descubrir_casilla: descubre la casilla especificada, en caso de que esta esté oculta o marcada con una bandera. Si ni la casilla ni ninguna de las adyacentes contienen una mina (es decir, el valor de la casilla especificada es cero), entonces se descubren automáticamente todas las casillas adyacentes que aún no lo estén.\n"
   ]
  },
  {
   "cell_type": "code",
   "execution_count": 91,
   "metadata": {},
   "outputs": [],
   "source": [
    "class CampoDeMinas:\n",
    "    def __init__(self,dimension,lista):\n",
    "        self.dimension = dimension\n",
    "        matriz = []\n",
    "        for i in range(dimension):\n",
    "            l = []\n",
    "            for j in range(dimension):\n",
    "                l.append(('O',False))\n",
    "            matriz.append(l)\n",
    "        self.tablero = matriz\n",
    "\n",
    "        for posicion in lista:\n",
    "            self.tablero[posicion[0]][posicion[1]] = ('O',True)\n",
    "        \n",
    "\n",
    "    \n",
    "    def estado_casilla(self,i,j):\n",
    "        return self.tablero[i][j][0]\n",
    "    \n",
    "    def valor_casilla(self,posicion):\n",
    "        i,j = posicion\n",
    "        posicion_arriba = max(0,i-1)\n",
    "        posicion_abajo = min(self.dimension,i+1)\n",
    "        posicion_izq = max(0,j-1)\n",
    "        posicion_derecha = min(self.dimension,j+1)\n",
    "        contador = 0\n",
    "        if self.tablero[i][j][1] == True:\n",
    "            return -1\n",
    "        else:\n",
    "            for i in range(posicion_izq,posicion_derecha+1):\n",
    "                for j in range(posicion_arriba,posicion_abajo+1):\n",
    "                    if self.tablero[i][j][1] == True:\n",
    "                        contador +=1\n",
    "            return contador\n",
    "        \n",
    "    def __str__(self):\n",
    "        representacion = ''\n",
    "        for f in range(self.dimension):\n",
    "            for c in range(self.dimension):\n",
    "                estado = self.estado_casilla(f,c)\n",
    "                if estado == 'O':\n",
    "                    representacion += 'O '\n",
    "                elif estado == 'B':\n",
    "                    representacion += 'B '\n",
    "                elif estado == 'D':\n",
    "                    valor = self.valor_casilla(f,c)\n",
    "                    if valor == -1:\n",
    "                        representacion += 'M '\n",
    "                    else:\n",
    "                        representacion += str(valor) + ' '\n",
    "            representacion += '\\n'\n",
    "        return representacion\n",
    "    \n",
    "class BuscaMinas(CampoDeMinas):\n",
    "    def marcar_casilla(self,i,j):\n",
    "        if self.estado_casilla(i,j)=='O':\n",
    "            self.tablero[i][j] = ('B',self.tablero[i][j][1])\n",
    "            \n",
    "    def desmarcar_casilla(self,i,j):\n",
    "        if self.estado_casilla(i,j)=='B':\n",
    "            self.tablero[i][j] = ('O',self.tablero[i][j][1])\n",
    "            \n",
    "    def descubrir_casilla(self,i,j):\n",
    "        posicion_arriba = max(0,i-1)\n",
    "        posicion_abajo = min(self.dimension,i+1)\n",
    "        posicion_izq = max(0,j-1)\n",
    "        posicion_derecha = min(self.dimension,j+1)\n",
    "        if self.estado_casilla(i,j) == 'O' or self.estado_casilla(i,j) == 'B':\n",
    "            if self.valor_casilla == 0:\n",
    "                for i in range(posicion_izq,posicion_derecha+1):\n",
    "                    for j in range(posicion_arriba,posicion_abajo+1):\n",
    "                        self.tablero[i][j] = ('D',self.tablero[i][j][1])\n",
    "            elif self.valor_casilla == -1:\n",
    "                print('BOOOMMM!')\n",
    "            else:\n",
    "                self.tablero[i][j] = (self.valor_casilla,self.tablero[i][j][1])\n"
   ]
  },
  {
   "cell_type": "code",
   "execution_count": 92,
   "metadata": {},
   "outputs": [
    {
     "name": "stdout",
     "output_type": "stream",
     "text": [
      "O O O O O \n",
      "O O O O O \n",
      "O O O O O \n",
      "O O O O O \n",
      "O O O O O \n",
      "\n"
     ]
    }
   ],
   "source": [
    "C = CampoDeMinas(5,[(0,0),(1,1),(2,3)])\n",
    "print(C)"
   ]
  },
  {
   "cell_type": "code",
   "execution_count": 93,
   "metadata": {},
   "outputs": [
    {
     "data": {
      "text/plain": [
       "2"
      ]
     },
     "execution_count": 93,
     "metadata": {},
     "output_type": "execute_result"
    }
   ],
   "source": [
    "C.valor_casilla((2,2))\n"
   ]
  },
  {
   "cell_type": "code",
   "execution_count": 94,
   "metadata": {},
   "outputs": [
    {
     "name": "stdout",
     "output_type": "stream",
     "text": [
      "O O O O O \n",
      "O O O O O \n",
      "O O B O O \n",
      "O O O O O \n",
      "O O O O O \n",
      "\n",
      "O O O O O \n",
      "O O O O O \n",
      "O O B O O \n",
      "O O O O O \n",
      "O O O O O \n",
      "\n"
     ]
    }
   ],
   "source": [
    "C = BuscaMinas(5,[(0,0),(1,1),(2,3)])\n",
    "C.marcar_casilla(2,2)\n",
    "print(C)\n",
    "C.desmarcar_casilla(4,4)\n",
    "print(C)"
   ]
  },
  {
   "cell_type": "code",
   "execution_count": 95,
   "metadata": {},
   "outputs": [
    {
     "name": "stdout",
     "output_type": "stream",
     "text": [
      "O O O O O \n",
      "O O O O O \n",
      "O O B O O \n",
      "O O O O \n",
      "O O O O O \n",
      "\n"
     ]
    }
   ],
   "source": [
    "C.descubrir_casilla(3,1)\n",
    "print(C)"
   ]
  },
  {
   "cell_type": "code",
   "execution_count": 96,
   "metadata": {},
   "outputs": [
    {
     "data": {
      "text/plain": [
       "True"
      ]
     },
     "execution_count": 96,
     "metadata": {},
     "output_type": "execute_result"
    }
   ],
   "source": [
    "C.estado_casilla(1,1) == 'O'"
   ]
  },
  {
   "cell_type": "code",
   "execution_count": null,
   "metadata": {},
   "outputs": [],
   "source": []
  }
 ],
 "metadata": {
  "kernelspec": {
   "display_name": "Python 3",
   "language": "python",
   "name": "python3"
  },
  "language_info": {
   "codemirror_mode": {
    "name": "ipython",
    "version": 3
   },
   "file_extension": ".py",
   "mimetype": "text/x-python",
   "name": "python",
   "nbconvert_exporter": "python",
   "pygments_lexer": "ipython3",
   "version": "3.11.1"
  },
  "orig_nbformat": 4
 },
 "nbformat": 4,
 "nbformat_minor": 2
}
