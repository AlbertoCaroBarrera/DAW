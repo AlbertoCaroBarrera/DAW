{
 "cells": [
  {
   "cell_type": "code",
   "execution_count": 2,
   "metadata": {},
   "outputs": [],
   "source": [
    "import xml.etree.ElementTree as ET\n",
    "xmlfile = \"iesPSUR_FPInformática.xml\"\n",
    "tree = ET.parse(xmlfile) #parse es un metodo de ET que analiza xml\n",
    "root = tree.getroot()"
   ]
  },
  {
   "cell_type": "code",
   "execution_count": 3,
   "metadata": {},
   "outputs": [
    {
     "name": "stdout",
     "output_type": "stream",
     "text": [
      "<ies>\n",
      "  <nombre>IES PSUR</nombre>\n",
      "  <web>https:www.iespoligonosur.org</web>\n",
      "  <ciclos>\n",
      "    <ciclo id=\"ASIR\">\n",
      "      <nombre>Administración de Sistemas Informáticos en Red</nombre>\n",
      "      <grado>Superior</grado>\n",
      "      <decretoTitulo año=\"2009\" />\n",
      "    </ciclo>\n",
      "    <ciclo id=\"DAW\">\n",
      "      <nombre>Desarrollo de Aplicaciones Web</nombre>\n",
      "      <grado>Superior</grado>\n",
      "      <decretoTitulo año=\"2010\" />\n",
      "    </ciclo>\n",
      "    <ciclo id=\"SMR\">\n",
      "      <nombre>Sistemas Microinformáticos y Redes</nombre>\n",
      "      <grado>Medio</grado>\n",
      "      <decretoTitulo año=\"2008\" />\n",
      "    </ciclo>\n",
      "  </ciclos>\n",
      "  <modulos>\n",
      "    <modulo id=\"0228\">\n",
      "      <nombre>Aplicaciones web</nombre>\n",
      "      <curso>2</curso>\n",
      "      <horasSemanales>4</horasSemanales>\n",
      "      <ciclo>SMR</ciclo>\n",
      "    </modulo>\n",
      "    <modulo id=\"0372\">\n",
      "      <nombre>Gestión de bases de datos</nombre>\n",
      "      <curso>1</curso>\n",
      "      <horasSemanales>5</horasSemanales>\n",
      "      <ciclo>ASIR</ciclo>\n",
      "    </modulo>\n",
      "    <modulo id=\"0373\">\n",
      "      <nombre>Lenguajes de marcas y sistemas de gestión de información</nombre>\n",
      "      <curso>1</curso>\n",
      "      <horasSemanales>3</horasSemanales>\n",
      "      <ciclo>ASIR</ciclo>\n",
      "      <ciclo>DAW</ciclo>\n",
      "    </modulo>\n",
      "    <modulo id=\"0376\">\n",
      "      <nombre>Implantación de aplicaciones web</nombre>\n",
      "      <curso>2</curso>\n",
      "      <horasSemanales>5</horasSemanales>\n",
      "      <ciclo>ASIR</ciclo>\n",
      "    </modulo>\n",
      "  </modulos>\n",
      "</ies>\n"
     ]
    }
   ],
   "source": [
    "ET.dump(tree)"
   ]
  },
  {
   "attachments": {},
   "cell_type": "markdown",
   "metadata": {},
   "source": [
    "Consultar los nombres de los módulos del ciclo de \"Sistemas Microinformáticos y Redes\"."
   ]
  },
  {
   "cell_type": "code",
   "execution_count": 4,
   "metadata": {},
   "outputs": [
    {
     "name": "stdout",
     "output_type": "stream",
     "text": [
      "Aplicaciones web\n"
     ]
    }
   ],
   "source": [
    "xpath=\"./modulos/modulo[ciclo='SMR']/\"\n",
    "\n",
    "for elem in root.findall(xpath):\n",
    "    if elem.tag == 'nombre':\n",
    "        print(elem.text)"
   ]
  },
  {
   "attachments": {},
   "cell_type": "markdown",
   "metadata": {},
   "source": [
    "Consultar los nombres de los ciclos formativos que incluyen el módulo \"Lenguajes de marcas y sistemas de gestión de información\"."
   ]
  },
  {
   "cell_type": "code",
   "execution_count": 5,
   "metadata": {},
   "outputs": [
    {
     "name": "stdout",
     "output_type": "stream",
     "text": [
      "ASIR\n",
      "DAW\n"
     ]
    }
   ],
   "source": [
    "xpath=\"./modulos/modulo[nombre='Lenguajes de marcas y sistemas de gestión de información']/\"\n",
    "for elem in root.findall(xpath):\n",
    "    if elem.tag == 'ciclo':\n",
    "        print(elem.text)"
   ]
  },
  {
   "attachments": {},
   "cell_type": "markdown",
   "metadata": {},
   "source": [
    "Consultar los nombres de los módulos de ciclos de Grado Superior.\n"
   ]
  },
  {
   "cell_type": "code",
   "execution_count": 6,
   "metadata": {},
   "outputs": [
    {
     "name": "stdout",
     "output_type": "stream",
     "text": [
      "Gestión de bases de datos\n",
      "Lenguajes de marcas y sistemas de gestión de información\n",
      "Implantación de aplicaciones web\n"
     ]
    }
   ],
   "source": [
    "xpath=\"./ciclos/ciclo/[grado='Superior']\"\n",
    "lista=[]\n",
    "for elem in root.findall(xpath):\n",
    "    for clave,valor in elem.attrib.items():\n",
    "        lista.append(valor)\n",
    "lista\n",
    "\n",
    "nombres = set()\n",
    "for asignatura in lista:\n",
    "    xpath=f\"./modulos/modulo[ciclo='{asignatura}']/\"\n",
    "    for elem in root.findall(xpath):\n",
    "        if elem.tag == 'nombre':\n",
    "            nombres.add(elem.text)\n",
    "            \n",
    "for nombre in nombres:\n",
    "    print(nombre)\n"
   ]
  },
  {
   "attachments": {},
   "cell_type": "markdown",
   "metadata": {},
   "source": [
    "Consultar los nombres de los módulos de los ciclos formativos cuyo título se aprobó en 2008.\n"
   ]
  },
  {
   "cell_type": "code",
   "execution_count": 7,
   "metadata": {},
   "outputs": [
    {
     "name": "stdout",
     "output_type": "stream",
     "text": [
      "Aplicaciones web\n"
     ]
    }
   ],
   "source": [
    "xpath=\"./ciclos/ciclo/decretoTitulo[@año='2008']/..\"\n",
    "lista=[]\n",
    "for elem in root.findall(xpath):\n",
    "    for clave,valor in elem.attrib.items():\n",
    "        lista.append(valor)\n",
    "lista\n",
    "\n",
    "nombres = set()\n",
    "for asignatura in lista:\n",
    "    xpath=f\"./modulos/modulo[ciclo='{asignatura}']/\"\n",
    "    for elem in root.findall(xpath):\n",
    "        if elem.tag == 'nombre':\n",
    "            nombres.add(elem.text)\n",
    "            \n",
    "for nombre in nombres:\n",
    "    print(nombre)"
   ]
  },
  {
   "attachments": {},
   "cell_type": "markdown",
   "metadata": {},
   "source": [
    "Consultar los grados de los ciclos formativos con módulos de primer curso.\n"
   ]
  },
  {
   "cell_type": "code",
   "execution_count": 8,
   "metadata": {},
   "outputs": [
    {
     "name": "stdout",
     "output_type": "stream",
     "text": [
      "ASIR Superior\n",
      "DAW Superior\n"
     ]
    }
   ],
   "source": [
    "xpath=\"./modulos/modulo/[curso='1']/\"\n",
    "ciclos = set()\n",
    "for elem in root.findall(xpath):\n",
    "    if elem.tag == 'ciclo':\n",
    "        ciclos.add(elem.text)\n",
    "for ciclo in ciclos:\n",
    "    xpath = f\"./ciclos/ciclo[@id='{ciclo}']/\"\n",
    "    for elem in root.findall(xpath):\n",
    "        if elem.tag == 'grado':\n",
    "            print(ciclo,elem.text)\n"
   ]
  }
 ],
 "metadata": {
  "kernelspec": {
   "display_name": "Python 3",
   "language": "python",
   "name": "python3"
  },
  "language_info": {
   "codemirror_mode": {
    "name": "ipython",
    "version": 3
   },
   "file_extension": ".py",
   "mimetype": "text/x-python",
   "name": "python",
   "nbconvert_exporter": "python",
   "pygments_lexer": "ipython3",
   "version": "3.11.1"
  },
  "orig_nbformat": 4
 },
 "nbformat": 4,
 "nbformat_minor": 2
}
