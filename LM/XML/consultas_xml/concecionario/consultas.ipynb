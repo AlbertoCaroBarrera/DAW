{
 "cells": [
  {
   "attachments": {},
   "cell_type": "markdown",
   "metadata": {},
   "source": [
    "Xpath"
   ]
  },
  {
   "cell_type": "code",
   "execution_count": 1,
   "metadata": {},
   "outputs": [],
   "source": [
    "import xml.etree.ElementTree as ET\n",
    "tree = ET.parse('concesionario.xml')\n",
    "root = tree.getroot()"
   ]
  },
  {
   "cell_type": "code",
   "execution_count": 19,
   "metadata": {},
   "outputs": [
    {
     "name": "stdout",
     "output_type": "stream",
     "text": [
      "<concensionario>\n",
      "\t<coche combustible=\"D\">\n",
      "\t\t<marca>Volkswagen</marca>\n",
      "\t\t<modelo>Passat</modelo>\n",
      "\t\t<color>Azul</color>\n",
      "\t\t<año>2005</año>\n",
      "\t\t<precio>35000</precio>\n",
      "\t</coche>\n",
      "\t<coche combustible=\"G\">\n",
      "\t\t<marca>Volkswagen</marca>\n",
      "\t\t<modelo>Touren</modelo>\n",
      "\t\t<color>Azul</color>\n",
      "\t\t<año>2007</año>\n",
      "\t\t<precio>50000</precio>\n",
      "\t</coche>\n",
      "\t<coche combustible=\"D\">\n",
      "\t\t<marca>Opel</marca>\n",
      "\t\t<modelo>Astra</modelo>\n",
      "\t\t<color>Negro</color>\n",
      "\t\t<año>2213</año>\n",
      "\t\t<precio>28000</precio>\n",
      "\t</coche>\n",
      "</concensionario>\n"
     ]
    }
   ],
   "source": [
    "print(ET.tostring(root, encoding='unicode'))"
   ]
  },
  {
   "cell_type": "code",
   "execution_count": null,
   "metadata": {},
   "outputs": [],
   "source": []
  }
 ],
 "metadata": {
  "kernelspec": {
   "display_name": "Python 3",
   "language": "python",
   "name": "python3"
  },
  "language_info": {
   "codemirror_mode": {
    "name": "ipython",
    "version": 3
   },
   "file_extension": ".py",
   "mimetype": "text/x-python",
   "name": "python",
   "nbconvert_exporter": "python",
   "pygments_lexer": "ipython3",
   "version": "3.11.1"
  },
  "orig_nbformat": 4,
  "vscode": {
   "interpreter": {
    "hash": "eabca979b0553fa6d87e9a00c352604d3b703d4afc9641643dd42376492b80f6"
   }
  }
 },
 "nbformat": 4,
 "nbformat_minor": 2
}
