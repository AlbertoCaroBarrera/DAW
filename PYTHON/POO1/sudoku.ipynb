{
 "cells": [
  {
   "attachments": {},
   "cell_type": "markdown",
   "metadata": {},
   "source": [
    "\n",
    "<pre>\n",
    "\n",
    "Un sudoku es un pasatiempo lógico que se realiza en un tablero 9 x 9, dividido en 9 cuadrados 3 x 3a.\n",
    " El objetivo consiste en completar el tablero de forma que cada fila, cada columna y cada cuadrado contenga los números del 1 al 9 \n",
    " sin que falte ni se repita ninguno. \n",
    " Se proporcionan al comienzo los valores de algunas de las casillas del tablero.\n",
    "\n",
    "\n",
    "Escribir, e implementar en python, el pseudocódigo de un programa que declare las clases de objetos indicadas:\n",
    "\n",
    "\n",
    "Una clase Sudoku con los siguientes atributos públicos:\n",
    "- Tablero: guarda una matriz con los valores de las casillas del tablero, como números enteros entre 0 y 9 (el cero corresponde a una casilla con valor desconocido).   \n",
    "Y métodos públicos:   \n",
    "- inicializar: inicializa el tablero con los valores especificados en una lista de tuplas (i,j,num), donde i y j son las coordenadas de una casilla y num es el valor que tiene esa casilla.\n",
    "- representar: devuelve una cadena que representa el tablero.\n",
    "- rellenar_casilla: establece el valor de la casilla especificada, siempre que este no se conociera previamente.   \n",
    "Una clase SudokuConAyuda que herede de la clase anterior y añada los siguientes métodos públicos:\n",
    "- comprobar_casilla: determina si es posible rellenar la casilla especificada con el valor indicado.\n",
    "- pedir_ayuda: devuelve una lista de tuplas (i,j,num), donde i y j son las coordenadas de las casillas que solo pueden contener un único valor, y num es ese valor.\n",
    "\n"
   ]
  },
  {
   "attachments": {},
   "cell_type": "markdown",
   "metadata": {},
   "source": [
    "<pre>\n",
    "Programa Sudoku\n",
    "\n",
    "Inicio Programa\n",
    "    Clase Sudoku\n",
    "    atributos\n",
    "        Publico lista tablero: tablero\n",
    "\n",
    "Inicio clase\n",
    "    público procedimiento inicializar(sudoku:propio,lista_de_tuplas:[(i,j,n),........])\n",
    "    Inicio procedimiento\n",
    "        matriz = [[0,0,0,0,0,0,0,0,0],\n",
    "                  [0,0,0,0,0,0,0,0,0],\n",
    "                  [0,0,0,0,0,0,0,0,0],\n",
    "                  [0,0,0,0,0,0,0,0,0],\n",
    "                  [0,0,0,0,0,0,0,0,0],\n",
    "                  [0,0,0,0,0,0,0,0,0],\n",
    "                  [0,0,0,0,0,0,0,0,0],\n",
    "                  [0,0,0,0,0,0,0,0,0],\n",
    "                  [0,0,0,0,0,0,0,0,0]]\n",
    "\n",
    "        para i,j,n en lista_de_tuplas:\n",
    "            matriz[i][j] = n\n",
    "\n",
    "        propio.tablero = matriz\n",
    "    Fin procedimiento\n",
    "\n",
    "    publico cadena funcion representar(sudoku:propio)\n",
    "    Inicio funcion\n",
    "        para i en rango(longitud(propio.__elementos)):\n",
    "            devolver rep(i)\n",
    "    Fin funcion\n",
    "\n",
    "    publico procedimiento rellenar_casilla(sudoku:propio,entero:i,entero:j,entero:valor)\n",
    "    Inicio procedimiento\n",
    "        si propio.tablero[i][j]==0:\n",
    "            propio.tablero[i][j]=valor\n",
    "        en otro caso:\n",
    "            devolver \"No se puede rellanar una casilla que ya está rellena\"\n",
    "    FIn procedimiento\n",
    "\n",
    "Fin clase\n",
    "\n",
    "    Clase SudokuConAyuda(Sudoku)\n",
    "    Inicio Booleano funcion comprobar_casilla(sudokuConAyuda:propio,entero:i,entero:j,entero:valor)\n",
    "    Inicio funcion\n",
    "\n",
    "        Si rellenar_casilla(i,j,valor) == \"No se puede rellanar una casilla que ya está rellena\":\n",
    "            devolver Falso\n",
    "        Para num_filas en rango(longitud(propio.tablero))\n",
    "            sino ()"
   ]
  },
  {
   "cell_type": "code",
   "execution_count": 29,
   "metadata": {},
   "outputs": [
    {
     "data": {
      "text/plain": [
       "5"
      ]
     },
     "execution_count": 29,
     "metadata": {},
     "output_type": "execute_result"
    }
   ],
   "source": [
    "def fila(l):\n",
    "    cadena = ''\n",
    "    while len(l) > 0:\n",
    "        if (len(l)+2)%3==0:\n",
    "            cadena += str(l[0]) + ' ' + ' '\n",
    "        else:\n",
    "            cadena += str(l[0]) + ' ' \n",
    "        l = l[1:]\n",
    "    return cadena\n",
    "\n",
    "def rep(l):\n",
    "    cadena = ''\n",
    "    for i in range(len(l)):\n",
    "        if (i+1)%3==0:\n",
    "            cadena += (fila(l[i])) + '\\n'+'\\n'\n",
    "        else:\n",
    "            cadena += (fila(l[i])) + '\\n'\n",
    "    return cadena\n",
    "\n",
    "def fila_sin_zero(lista):\n",
    "    while 0 in lista:\n",
    "        lista.remove(0)\n",
    "    return lista\n",
    "\n",
    "def matriz_columnas(lista):\n",
    "    matriz=[]\n",
    "    for j in range(len(lista[0])):\n",
    "        fila=[]\n",
    "        for i in range(len(lista)):\n",
    "            fila.append(lista[i][j])\n",
    "        matriz.append(fila)\n",
    "    return matriz\n",
    "\n",
    "def valor_que_falta(lista):\n",
    "    for i in [1,2,3,4,5,6,7,8,9]:\n",
    "        if i not in lista:\n",
    "            return i\n",
    "\n",
    "def cuadrantes(matriz):\n",
    "    matriz=[]\n",
    "    matriz.append([matriz[0][0],matriz[0][1],matriz[0][2],matriz[1][0],matriz[1][1],matriz[1][2],matriz[2][0],matriz[2][1],matriz[2][2]])\n",
    "    matriz.append([matriz[0][3],matriz[0][4],matriz[0][5],matriz[1][3],matriz[1][4],matriz[1][5],matriz[2][3],matriz[2][4],matriz[2][5]])\n",
    "    matriz.append([matriz[0][6],matriz[0][7],matriz[0][8],matriz[1][6],matriz[1][7],matriz[1][8],matriz[2][6],matriz[2][7],matriz[2][8]])\n",
    "    matriz.append([matriz[3][0],matriz[3][1],matriz[3][2],matriz[4][0],matriz[4][1],matriz[4][2],matriz[5][0],matriz[5][1],matriz[5][2]])\n",
    "    matriz.append([matriz[3][3],matriz[3][4],matriz[3][5],matriz[4][3],matriz[4][4],matriz[4][5],matriz[5][3],matriz[5][4],matriz[5][5]])\n",
    "    matriz.append([matriz[3][6],matriz[3][7],matriz[3][8],matriz[4][6],matriz[4][7],matriz[4][8],matriz[5][6],matriz[5][7],matriz[5][8]])\n",
    "    matriz.append([matriz[6][0],matriz[6][1],matriz[6][2],matriz[7][0],matriz[7][1],matriz[7][2],matriz[8][0],matriz[8][1],matriz[8][2]])\n",
    "    matriz.append([matriz[6][3],matriz[6][4],matriz[6][5],matriz[7][3],matriz[7][4],matriz[7][5],matriz[8][3],matriz[8][4],matriz[8][5]])\n",
    "    matriz.append([matriz[6][6],matriz[6][7],matriz[6][8],matriz[7][6],matriz[7][7],matriz[7][8],matriz[8][6],matriz[8][7],matriz[8][8]])\n",
    "    return matriz\n",
    "        \n",
    "matriz_columnas([[1,2,3],[4,5,6],[7,8,9]])\n",
    "\n",
    "len(fila_sin_zero([1,2,3,4,0,7,6,8,9]))\n",
    "\n",
    "valor_que_falta(fila_sin_zero([1,2,3,4,0,7,6,8,9]))"
   ]
  },
  {
   "cell_type": "code",
   "execution_count": 31,
   "metadata": {},
   "outputs": [
    {
     "name": "stdout",
     "output_type": "stream",
     "text": [
      "2 0 0  0 0 0  0 0 0  \n",
      "4 0 0  0 0 0  0 0 0  \n",
      "3 0 0  0 0 0  0 0 0  \n",
      "\n",
      "0 0 0  0 0 0  0 0 0  \n",
      "1 0 0  0 0 0  0 0 0  \n",
      "5 0 0  0 0 0  0 0 0  \n",
      "\n",
      "7 0 0  0 0 0  0 0 0  \n",
      "8 0 0  0 0 0  0 0 0  \n",
      "9 0 0  0 0 0  0 0 0  \n",
      "\n",
      "\n"
     ]
    },
    {
     "ename": "IndexError",
     "evalue": "list index out of range",
     "output_type": "error",
     "traceback": [
      "\u001b[1;31m---------------------------------------------------------------------------\u001b[0m",
      "\u001b[1;31mIndexError\u001b[0m                                Traceback (most recent call last)",
      "Cell \u001b[1;32mIn[31], line 69\u001b[0m\n\u001b[0;32m     67\u001b[0m S1\u001b[39m=\u001b[39mSudokuConAyuda([(\u001b[39m0\u001b[39m,\u001b[39m0\u001b[39m,\u001b[39m2\u001b[39m),(\u001b[39m1\u001b[39m,\u001b[39m0\u001b[39m,\u001b[39m4\u001b[39m),(\u001b[39m2\u001b[39m,\u001b[39m0\u001b[39m,\u001b[39m3\u001b[39m),(\u001b[39m4\u001b[39m,\u001b[39m0\u001b[39m,\u001b[39m1\u001b[39m),(\u001b[39m5\u001b[39m,\u001b[39m0\u001b[39m,\u001b[39m5\u001b[39m),(\u001b[39m6\u001b[39m,\u001b[39m0\u001b[39m,\u001b[39m7\u001b[39m),(\u001b[39m7\u001b[39m,\u001b[39m0\u001b[39m,\u001b[39m8\u001b[39m),(\u001b[39m8\u001b[39m,\u001b[39m0\u001b[39m,\u001b[39m9\u001b[39m)])\n\u001b[0;32m     68\u001b[0m \u001b[39mprint\u001b[39m(S1)\n\u001b[1;32m---> 69\u001b[0m \u001b[39mprint\u001b[39m(S1\u001b[39m.\u001b[39;49mpedir_ayuda())\n",
      "Cell \u001b[1;32mIn[31], line 53\u001b[0m, in \u001b[0;36mSudokuConAyuda.pedir_ayuda\u001b[1;34m(self)\u001b[0m\n\u001b[0;32m     50\u001b[0m     \u001b[39mif\u001b[39;00m \u001b[39mlen\u001b[39m(fila_sin_zero(fila))\u001b[39m==\u001b[39m\u001b[39m8\u001b[39m:\n\u001b[0;32m     51\u001b[0m         lista_de_tuplas\u001b[39m.\u001b[39mappend(\u001b[39mself\u001b[39m\u001b[39m.\u001b[39mtablero\u001b[39m.\u001b[39mindex(fila),fila\u001b[39m.\u001b[39mindex(\u001b[39m0\u001b[39m),valor_que_falta(fila))\n\u001b[1;32m---> 53\u001b[0m col \u001b[39m=\u001b[39m matriz_columnas(\u001b[39mself\u001b[39;49m\u001b[39m.\u001b[39;49mtablero)     \n\u001b[0;32m     54\u001b[0m \u001b[39mfor\u001b[39;00m f2 \u001b[39min\u001b[39;00m col:\n\u001b[0;32m     55\u001b[0m     \u001b[39mif\u001b[39;00m \u001b[39mlen\u001b[39m(fila_sin_zero(f2))\u001b[39m==\u001b[39m\u001b[39m8\u001b[39m:\n",
      "Cell \u001b[1;32mIn[29], line 30\u001b[0m, in \u001b[0;36mmatriz_columnas\u001b[1;34m(lista)\u001b[0m\n\u001b[0;32m     28\u001b[0m     fila\u001b[39m=\u001b[39m[]\n\u001b[0;32m     29\u001b[0m     \u001b[39mfor\u001b[39;00m i \u001b[39min\u001b[39;00m \u001b[39mrange\u001b[39m(\u001b[39mlen\u001b[39m(lista)):\n\u001b[1;32m---> 30\u001b[0m         fila\u001b[39m.\u001b[39mappend(lista[i][j])\n\u001b[0;32m     31\u001b[0m     matriz\u001b[39m.\u001b[39mappend(fila)\n\u001b[0;32m     32\u001b[0m \u001b[39mreturn\u001b[39;00m matriz\n",
      "\u001b[1;31mIndexError\u001b[0m: list index out of range"
     ]
    }
   ],
   "source": [
    "class Sudoku:\n",
    "\n",
    "    def __init__(self,lista_de_tuplas=[]):\n",
    "        matriz = []\n",
    "        for i in range(9):\n",
    "            lista = []\n",
    "            for j in range(9):\n",
    "                lista.append(0)\n",
    "            matriz.append(lista)    \n",
    "            \n",
    "        for i,j,n in lista_de_tuplas:\n",
    "            matriz[i][j]=n\n",
    "        \n",
    "        self.tablero = matriz\n",
    "        \n",
    "    def __str__(self):\n",
    "        return rep(self.tablero)\n",
    "    \n",
    "    def rellenar_casilla(self,i,j,valor):\n",
    "\n",
    "        if self.tablero[i][j]==0:\n",
    "            self.tablero[i][j]=valor\n",
    "        else:\n",
    "            raise ValueError(\"Error!, no se puede añadir un valor a dicha casilla, ya que su valor no es nulo!!!\")\n",
    "    \n",
    "class SudokuConAyuda(Sudoku):\n",
    "        \n",
    "    def comprobar_casilla(self,i,j,valor):\n",
    "        \n",
    "        solucion = True\n",
    "        \n",
    "        for num_fila in range(len(self.tablero)):\n",
    "            if self.tablero[i][num_fila]==valor and num_fila!=j:\n",
    "                solucion=False\n",
    "                \n",
    "        \n",
    "        for num_columna in range(len(self.tablero[0])):\n",
    "            if self.tablero[num_columna][j]==valor and num_columna!=i:\n",
    "                solucion=False\n",
    "            \n",
    "        if self.tablero[i][j]!=0:\n",
    "            solucion=False\n",
    "            \n",
    "        return solucion\n",
    "        \n",
    "    def pedir_ayuda(self):\n",
    "        lista_de_tuplas = []\n",
    "        \n",
    "        for fila in self.tablero:\n",
    "            if len(fila_sin_zero(fila))==8:\n",
    "                lista_de_tuplas.append(self.tablero.index(fila),fila.index(0),valor_que_falta(fila))\n",
    "        \n",
    "        col = matriz_columnas(self.tablero)     \n",
    "        for f2 in col:\n",
    "            if len(fila_sin_zero(f2))==8:\n",
    "                lista_de_tuplas.append(self.tablero.index(f2), f2.index(0), valor_que_falta(f2))                   #indicesss\n",
    "        \n",
    "        cuad = cuadrantes(self.tablero)        \n",
    "        for f3 in cuad:\n",
    "            if len(fila_sin_zero(f3))==8:\n",
    "                lista_de_tuplas.append(self.tablero.index(f3),f3.index(0),valor_que_falta(f3))      #indicessssss\n",
    "        \n",
    "        return lista_de_tuplas\n",
    "        \n",
    "\n",
    "\n",
    "S1=SudokuConAyuda([(0,0,2),(1,0,4),(2,0,3),(4,0,1),(5,0,5),(6,0,7),(7,0,8),(8,0,9)])\n",
    "print(S1)\n",
    "print(S1.pedir_ayuda())\n"
   ]
  },
  {
   "cell_type": "code",
   "execution_count": 37,
   "metadata": {},
   "outputs": [
    {
     "name": "stdout",
     "output_type": "stream",
     "text": [
      "2 0 0  0 0 0  0 0 0  \n",
      "0 3 0  0 0 0  0 0 0  \n",
      "0 0 4  0 0 0  0 0 0  \n",
      "\n",
      "0 0 0  0 0 0  0 0 0  \n",
      "0 0 0  0 0 0  0 0 0  \n",
      "0 0 0  0 0 6  0 0 0  \n",
      "\n",
      "0 0 0  0 0 0  0 0 0  \n",
      "0 0 0  0 0 0  0 0 0  \n",
      "0 0 0  0 0 0  0 0 0  \n",
      "\n",
      "\n",
      "2 0 0  0 0 0  0 0 0  \n",
      "4 3 0  0 0 0  0 0 0  \n",
      "0 0 4  0 0 0  0 0 0  \n",
      "\n",
      "0 0 0  0 0 0  0 0 0  \n",
      "0 0 0  0 0 0  0 0 0  \n",
      "0 0 0  0 0 6  0 0 0  \n",
      "\n",
      "0 0 0  0 0 0  0 0 0  \n",
      "0 0 0  0 0 0  0 0 0  \n",
      "0 0 0  0 0 0  0 0 0  \n",
      "\n",
      "\n"
     ]
    }
   ],
   "source": [
    "S2 = Sudoku([(0,0,2),(1,1,3),(2,2,4),(5,5,6)])\n",
    "print(S2)\n",
    "\n",
    "S2.rellenar_casilla(1,0,4)\n",
    "\n",
    "print(S2)\n",
    "\n",
    "S3 = SudokuConAyuda([(0,0,2),(1,1,3),(2,2,4),(5,5,6)])"
   ]
  },
  {
   "cell_type": "code",
   "execution_count": 39,
   "metadata": {},
   "outputs": [
    {
     "name": "stdout",
     "output_type": "stream",
     "text": [
      "2 0 0  0 0 0  0 0 0  \n",
      "0 3 0  0 0 0  0 0 0  \n",
      "0 0 4  0 0 0  0 0 0  \n",
      "\n",
      "0 0 0  0 0 0  0 0 0  \n",
      "0 0 0  0 0 0  0 0 0  \n",
      "0 0 0  0 0 6  0 0 0  \n",
      "\n",
      "0 0 0  0 0 0  0 0 0  \n",
      "0 0 0  0 0 0  0 0 0  \n",
      "0 0 0  0 0 0  0 0 0  \n",
      "\n",
      "\n"
     ]
    },
    {
     "data": {
      "text/plain": [
       "False"
      ]
     },
     "execution_count": 39,
     "metadata": {},
     "output_type": "execute_result"
    }
   ],
   "source": [
    "print(S3)\n",
    "S3.comprobar_casilla(0,0,2)"
   ]
  },
  {
   "cell_type": "code",
   "execution_count": null,
   "metadata": {},
   "outputs": [],
   "source": []
  }
 ],
 "metadata": {
  "kernelspec": {
   "display_name": "Python 3",
   "language": "python",
   "name": "python3"
  },
  "language_info": {
   "codemirror_mode": {
    "name": "ipython",
    "version": 3
   },
   "file_extension": ".py",
   "mimetype": "text/x-python",
   "name": "python",
   "nbconvert_exporter": "python",
   "pygments_lexer": "ipython3",
   "version": "3.11.1"
  },
  "orig_nbformat": 4,
  "vscode": {
   "interpreter": {
    "hash": "eabca979b0553fa6d87e9a00c352604d3b703d4afc9641643dd42376492b80f6"
   }
  }
 },
 "nbformat": 4,
 "nbformat_minor": 2
}
