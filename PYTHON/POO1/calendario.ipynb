{
 "cells": [
  {
   "attachments": {},
   "cell_type": "markdown",
   "metadata": {},
   "source": [
    "<pre>\n",
    "\n",
    "Escribir, e implementar en python, el pseudocódigo de un programa que declare las clases de objetos indicadas:\n",
    "\n",
    "\n",
    "\n",
    "\n",
    "Una clase calendario con los siguientes atributos privados:\n",
    "- año: guarda el año marcado en el calendario como  un número entero\n",
    "- mes: guarda el mes marcado en el calendario como un número entero entre 1 y 12\n",
    "- día: guarda el día marcado en el calendario  como un número enteri entre 1 y 31\n",
    "\n",
    "\n",
    "y métodos públicos:\n",
    "- inicializar: inicializa el calendario a 1 de enero del año especificado\n",
    "- representar: devuelve una cadena representando la fecha marcada en el calendario\n",
    "- obtener_día, obtener_mes, obtener_año: devuelven el día, el mes y el año, respectivamente, marcado en el calendario\n",
    "- avanzar_día, retroceder _día: hace que el calendario marque un día más o un día menos, respectivamente.\n",
    "- avanzar_mes, retroceder_mes: hace que el calendario marque un mes más o un mes menos, respectivamente.\n",
    "- avanzar_año, retroceder_año: hace que el calendario marque un año más o un año menos, respectivamente.\n",
    "\n",
    "\n",
    "Pseudocódigo\n",
    "\n",
    "Programa Calendario\n",
    "Inicio programa\n",
    "   Clase Calendario\n",
    "   atributos\n",
    "       privado entero: año\n",
    "       privado entero: mes\n",
    "       privado entero: día\n",
    "   inicio clase\n",
    "\n",
    "\n",
    "   público procedimiento inicializar(Calendario:propio, entero:a)\n",
    "   inicio procedimiento\n",
    "       propio.año <- a\n",
    "       propio.mes <- 1\n",
    "       propio.día <- 1\n",
    "   fin procedimiento\n",
    "\n",
    "\n",
    "   público cadena función representar(Calendario:propio)\n",
    "   inicio función\n",
    "       representación <- 'Día: ' + propio.dia + 'Mes: ' + propio.mes + 'Año: ' + propio.año\n",
    "       devolver representación\n",
    "   fin función\n",
    "\n",
    "\n",
    "   público entero función obtener_dia(Calendario:propio)\n",
    "   inicio funcion\n",
    "       devolver propio.dia\n",
    "   fin función\n",
    "\n",
    "\n",
    "   público entero función obtener_mes(Calendario:propio)\n",
    "   inicio funcion\n",
    "       devolver propio.mes\n",
    "   fin función\n",
    "\n",
    "\n",
    "   público entero función obtener_año(Calendario:propio)\n",
    "   inicio funcion\n",
    "       devolver propio.año\n",
    "   fin función\n",
    "\n",
    "\n",
    "   público procedimiento avanzar_día(Calendario:propio)\n",
    "   inicio procedimiento\n",
    "       propio.dia <- propio.dia + 1\n",
    "       Si propio.dia  es igual a 32 entonces\n",
    "           propio.dia <- 1\n",
    "           propio.mes <- propio.mes + 1\n",
    "           si propio.mes es igal a 13 entonces\n",
    "               propio.mes <- 1\n",
    "               propio.año <- propio.año + 1\n",
    "           fin si\n",
    "       sin si\n",
    "   fin procedimiento\n",
    "\n",
    "\n",
    "   público procedimiento avanzar_mes(Calendario:propio)\n",
    "   inicio procedimiento\n",
    "       propio.mes <- propio.mes + 1\n",
    "       si propio.mes es igual a 13 entonces\n",
    "           propio.mes <- 1\n",
    "           propio.año <- propio.año + 1\n",
    "       fin si\n",
    "   fin procedimiento\n",
    "\n",
    "\n",
    "   público procedimiento avanzar_año(Calendario:propio)\n",
    "   inicio procedimiento\n",
    "       propio.año <- propio.año + 1\n",
    "   fin procedimiento\n",
    "\n",
    "\n",
    "   público procedimiento retroceder_día(Calendario:propio)\n",
    "   inico procedimiento\n",
    "       propio.dia <- propio.dia - 1\n",
    "       Si propio.dia es igual a 0 entonces\n",
    "           propio.dia <- 31\n",
    "           propio.mes <- propio.mes - 1\n",
    "           Si propio.mes es igual a 0 entonces\n",
    "               propio.mes <- 12\n",
    "               propio.año <- propio.año - 1\n",
    "           fin si\n",
    "       fin si\n",
    "   fin procedimiento\n",
    "\n",
    "\n",
    "   público procedimiento retroceder_mes(Calendario:propio)\n",
    "   inicio procedimiento\n",
    "       propio.mes <- propio.mes - 1\n",
    "       si propio.mes es igual a 0 entonces\n",
    "           propio.mes <- 12\n",
    "           propio.año <-propio.año - 1\n",
    "       fin si\n",
    "   fin procedimiento\n",
    "\n",
    "\n",
    "   público procedimiento retroceder_año(Calendario:propio)\n",
    "   inicio procedimiento\n",
    "       propio.año <- propio.año -1\n",
    "   fin procedimiento\n",
    "fin programa\n",
    "\n"
   ]
  },
  {
   "attachments": {},
   "cell_type": "markdown",
   "metadata": {},
   "source": [
    "<pre>\n",
    "\n",
    "Escribir, e implementar en python, el pseudocódigo de un programa que declare las clases de objetos indicadas:\n",
    "\n",
    "\n",
    "\n",
    "\n",
    "Una clase calendario con los siguientes atributos privados:\n",
    "- año: guarda el año marcado en el calendario como  un número entero\n",
    "- mes: guarda el mes marcado en el calendario como un número entero entre 1 y 12\n",
    "- día: guarda el día marcado en el calendario  como un número enteri entre 1 y 31\n",
    "\n",
    "\n",
    "y métodos públicos:\n",
    "- inicializar: inicializa el calendario a 1 de enero del año especificado\n",
    "- representar: devuelve una cadena representando la fecha marcada en el calendario\n",
    "- obtener_día, obtener_mes, obtener_año: devuelven el día, el mes y el año, respectivamente, marcado en el calendario\n",
    "- avanzar_día, retroceder _día: hace que el calendario marque un día más o un día menos, respectivamente.\n",
    "- avanzar_mes, retroceder_mes: hace que el calendario marque un mes más o un mes menos, respectivamente.\n",
    "- avanzar_año, retroceder_año: hace que el calendario marque un año más o un año menos, respectivamente.\n"
   ]
  },
  {
   "cell_type": "code",
   "execution_count": 31,
   "metadata": {},
   "outputs": [],
   "source": [
    "class calendario():\n",
    "    def __init__(self,año=2023,mes=1,dia=1):\n",
    "        self.__año = año\n",
    "        self.__mes = mes\n",
    "        self.__dia = dia\n",
    "    def __str__(self):\n",
    "        return \"Hoy es día {} de {} del año {} \".format(self.__dia,self.__mes,self.__año)\n",
    "    \n",
    "    def obtener_dia(self):\n",
    "        return \"El día de hoy es : {} \".format(self.__dia)\n",
    "    def obtener_mes(self):\n",
    "        return \"El mes de hoy es : {} \".format(self.__mes)\n",
    "    def obtener_año(self):\n",
    "        return \"El año en que estamos es : {} \".format(self.__año)\n",
    "    \n",
    "    \n",
    "    def avanzar_dia (self):\n",
    "        if self.__dia==31:\n",
    "            self.__dia = 1\n",
    "            self.avanzar_mes()\n",
    "        else:\n",
    "            self.__dia +=1\n",
    "    def retroseder_dia (self):\n",
    "        if self.__dia == 1:\n",
    "            self.__dia = 31\n",
    "            self.retroceder_mes()\n",
    "        else:\n",
    "            self.__dia -=1\n",
    "    \n",
    "    def avanzar_mes(self):\n",
    "        if self.__mes==12:\n",
    "            self.__mes=1\n",
    "            self.avanzar_año()\n",
    "        else:\n",
    "            self.__mes +=1\n",
    "    def retroceder_mes(self):\n",
    "        if self.__mes==1:\n",
    "            self.__mes=12\n",
    "            self.retroceder_año()\n",
    "        else:\n",
    "            self.__mes -=1\n",
    "\n",
    "    def avanzar_año(self):\n",
    "        self.__año +=1\n",
    "    def retroceder_año(self):\n",
    "        self.__año -=1"
   ]
  },
  {
   "attachments": {},
   "cell_type": "markdown",
   "metadata": {},
   "source": [
    "*Hola*"
   ]
  },
  {
   "cell_type": "code",
   "execution_count": 32,
   "metadata": {},
   "outputs": [
    {
     "name": "stdout",
     "output_type": "stream",
     "text": [
      "1\n",
      "2\n",
      "3\n",
      "4\n",
      "5\n",
      "6\n"
     ]
    }
   ],
   "source": [
    "for i in range(1,7):\n",
    "    print(i)"
   ]
  },
  {
   "cell_type": "code",
   "execution_count": 33,
   "metadata": {},
   "outputs": [
    {
     "data": {
      "text/plain": [
       "(1, 2)"
      ]
     },
     "execution_count": 33,
     "metadata": {},
     "output_type": "execute_result"
    }
   ],
   "source": [
    "(0,0)\n",
    "(0,1)\n",
    "(0,2)\n",
    "(1,0)\n",
    "(1,1)\n",
    "(1,2)"
   ]
  },
  {
   "cell_type": "code",
   "execution_count": 34,
   "metadata": {},
   "outputs": [
    {
     "name": "stdout",
     "output_type": "stream",
     "text": [
      "Hola no es par\n"
     ]
    }
   ],
   "source": [
    "x = \"Hola\"\n",
    "y = int(input(\"Mete una variable\"))\n",
    "if y % 2 == 0:\n",
    "    print(\"Es par\")\n",
    "else:\n",
    "    print(x+\" no es par\")"
   ]
  },
  {
   "cell_type": "code",
   "execution_count": 35,
   "metadata": {},
   "outputs": [
    {
     "data": {
      "text/plain": [
       "True"
      ]
     },
     "execution_count": 35,
     "metadata": {},
     "output_type": "execute_result"
    }
   ],
   "source": [
    "8 % 2 == 0"
   ]
  },
  {
   "cell_type": "code",
   "execution_count": 36,
   "metadata": {},
   "outputs": [
    {
     "data": {
      "text/plain": [
       "False"
      ]
     },
     "execution_count": 36,
     "metadata": {},
     "output_type": "execute_result"
    }
   ],
   "source": [
    "8 > 9"
   ]
  },
  {
   "cell_type": "code",
   "execution_count": 37,
   "metadata": {},
   "outputs": [
    {
     "data": {
      "text/plain": [
       "False"
      ]
     },
     "execution_count": 37,
     "metadata": {},
     "output_type": "execute_result"
    }
   ],
   "source": [
    "8 == 9"
   ]
  },
  {
   "cell_type": "code",
   "execution_count": 40,
   "metadata": {},
   "outputs": [
    {
     "name": "stdout",
     "output_type": "stream",
     "text": [
      "0 0 0 0 0 0 0 0 0 0 0 0 0 0 0 0 0 0 \n"
     ]
    }
   ],
   "source": [
    "class Matriz:\n",
    "    def __init__(self,i,j):\n",
    "        lista = []\n",
    "        for a in range(i):\n",
    "            aux = []\n",
    "            for b  in range(j):\n",
    "                aux.append(0)\n",
    "            lista.append(aux)\n",
    "        self.tablero = lista\n",
    "    def __repr__(self):\n",
    "        cadena = \"\"\n",
    "        cadena2 = \"\"\n",
    "        for a in range(3):\n",
    "            for b in range(3):\n",
    "                cadena += str(self.tablero[a][b]) + \" \"\n",
    "            cadena2 += cadena\n",
    "        return cadena2\n",
    "M = Matriz(3,3)\n",
    "print(M)"
   ]
  },
  {
   "cell_type": "code",
   "execution_count": 39,
   "metadata": {},
   "outputs": [
    {
     "name": "stdout",
     "output_type": "stream",
     "text": [
      "[[0, 0, 0], [0, 0, 0], [0, 0, 0]]\n"
     ]
    }
   ],
   "source": [
    "i,j = 3,3\n",
    "lista = []\n",
    "for a in range(i):\n",
    "    aux = []\n",
    "    for b  in range(j):\n",
    "        aux.append(0)\n",
    "    lista.append(aux)\n",
    "print(lista)"
   ]
  },
  {
   "cell_type": "code",
   "execution_count": null,
   "metadata": {},
   "outputs": [],
   "source": []
  }
 ],
 "metadata": {
  "kernelspec": {
   "display_name": "Python 3",
   "language": "python",
   "name": "python3"
  },
  "language_info": {
   "codemirror_mode": {
    "name": "ipython",
    "version": 3
   },
   "file_extension": ".py",
   "mimetype": "text/x-python",
   "name": "python",
   "nbconvert_exporter": "python",
   "pygments_lexer": "ipython3",
   "version": "3.11.1"
  },
  "orig_nbformat": 4,
  "vscode": {
   "interpreter": {
    "hash": "fe183ba62bbaa6201aeb329258bb9abcb9ca3099eda120a11b0fc4605535bc5b"
   }
  }
 },
 "nbformat": 4,
 "nbformat_minor": 2
}
