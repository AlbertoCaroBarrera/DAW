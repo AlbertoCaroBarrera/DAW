{
 "cells": [
  {
   "attachments": {},
   "cell_type": "markdown",
   "metadata": {},
   "source": [
    "<pre>\n",
    "\n",
    "Escribir, e implementar en python, el pseudocódigo de un programa que declare las clases de objetos indicadas:\n",
    "\n",
    "\n",
    "Una clase Polinomio con los siguientes atributos privados\n",
    "- coeficientes: guarda los coeficientes de los términos del polinomio, como una lista de números enteros.   \n",
    "y métodos públicos:   \n",
    "- inicializar: inicializa el polinomio a partir de los coeficientes enteros indicados.\n",
    "- representar: devuelve una cadena representando el polinomio.\n",
    "- obtener_grado: devuelve el grado del polinomio.\n",
    "- obtener_coeficiente: devuelve el coeficiente del término especificado.\n",
    "- cambiar_coeficiente: cambia el coeficiente del término especificado.\n",
    "\n",
    "\n",
    "Una clase PolinomioConOperaciones que herede de la clase anterior y añada los siguientes métodos públicos:\n",
    "- sumar: añade al polinomio el polinomio especificado.\n",
    "- multiplicar: multiplica el polinomio por el polinomio especificado."
   ]
  },
  {
   "attachments": {},
   "cell_type": "markdown",
   "metadata": {},
   "source": [
    "<pre>\n",
    "Programa Polinomio\n",
    "\n",
    "Clase Polinomio\n",
    "Atributos:\n",
    "\n",
    "    Privado enteros: Coeficientes de la polinomio.\n",
    "\n",
    "Inicio Clase:\n",
    "\n",
    "    publico procedimiento inicializar (Polinomio: Propio, Enteros:Lista)\n",
    "    Inicio procedimiento\n",
    "        propio.__enteros = Enteros\n",
    "    Fin procedimiento\n",
    "\n",
    "    publico cadena funcion representar (Polinomio: Propio)\n",
    "    Inicio funcion\n",
    "        cadena = \"\"\n",
    "\n",
    "        while len(propio.enteros) > 0:\n",
    "\n",
    "            if len(enteros) == 1:\n",
    "                cadena += str(propio.__enteros.pop(0))\n",
    "                \n",
    "            else:\n",
    "                cadena += str(propio.__enteros.pop(0)) + \"X^\" + str(len(propio.__enteros)) + '+'\n",
    "\n",
    "        devolver cadena\n",
    "    Fin funcion\n",
    "\n",
    "    publico entero funcion obtener_grado (Polinomio: Propio):\n",
    "    Inicio funcion\n",
    "        Devolver 'El grado de la polinomio es: ' + str(len(propio.__enteros)\n",
    "    Fin funcion\n",
    "\n",
    "    publico entero funcion obtener_coeficiente (Polinomio: Propio,posicion: entero):\n",
    "    Inicio funcion\n",
    "        Devolver f'El coeficiente de posicion {posicion} polinomio es: {propio.__enteros[posicion]}'\n",
    "    Fin funcion\n",
    "\n",
    "    publico procedimiento cambiar_coeficiente (Polinomio: Propio,posicion: entero,valor: entero):\n",
    "    Inicio procedimiento\n",
    "        propio.__enteros[posicion] = valor\n",
    "    Fin procedimiento\n",
    "\n",
    "Clase Polinomioperaciones (Polinomio)\n",
    "\n",
    "    publico procedimiento sumar (Propio: Polinomio, Polinomio2: Polinomio):\n",
    "    Inicio procedimiento\n",
    "        Inicio lista Funcion suma_lista(lista1:lista,lista2:lista):\n",
    "        Inicio funcion\n",
    "        l = []\n",
    "            while len(lista1)>0:\n",
    "                l.append(lista1.pop(0)+lista2.pop(0)))\n",
    "            \n",
    "        propio.__enteros = l\n",
    "        Fin funcion\n",
    "    Fin procedimiento\n",
    "\n",
    "    publico procedimiento multiplicar (Propio: Polinomio, Polinomio2: Polinomio)\n",
    "    Inicio procedimiento\n",
    "        \n",
    "\n"
   ]
  },
  {
   "cell_type": "code",
   "execution_count": 277,
   "metadata": {},
   "outputs": [
    {
     "name": "stdout",
     "output_type": "stream",
     "text": [
      "1 + 2x^1 + 3x^2 + 1x^3 + 2x^4\n",
      "4\n",
      "3\n",
      "1 + 2x^1 + 3x^2 + 1x^3 + 2x^4 + 3x^9\n"
     ]
    }
   ],
   "source": [
    "class Polinomio:\n",
    "    def __init__(self, lista):\n",
    "        self.__coeficientes = lista\n",
    "        \n",
    "    def __str__(self):\n",
    "        cadena = \"\"\n",
    "        for grado in range(len(self.__coeficientes)):\n",
    "            if self.__coeficientes[grado]==0:\n",
    "                pass\n",
    "            else:\n",
    "                if grado!= len(self.__coeficientes)-1:\n",
    "                    if grado==0:\n",
    "                        cadena += str(self.__coeficientes[grado]) + \" + \"\n",
    "                    else:\n",
    "                        cadena += str(self.__coeficientes[grado]) + \"x^\" + str(grado) + \" + \"\n",
    "                else:\n",
    "                    cadena += str(self.__coeficientes[grado]) + \"x^\" + str(grado)\n",
    "        return cadena\n",
    "\n",
    "    def obtener_grado(self):\n",
    "        for i in range(len(self.__coeficientes)-1):\n",
    "            if self.__coeficientes[::-1][i] !=0:\n",
    "                return len(self.__coeficientes)-i-1\n",
    "                break\n",
    "\n",
    "    def obtener_coeficientes(self,posicion):\n",
    "        if len(self.__coeficientes) < posicion:\n",
    "            while len(self.__coeficientes) < posicion:\n",
    "                self.__coeficientes+=[0]\n",
    "            return 0\n",
    "        else:\n",
    "            return self.__coeficientes[posicion-1]\n",
    "        \n",
    "    def cambiar_coeficiente (self,posicion,valor):\n",
    "        if len(self.__coeficientes) < posicion:\n",
    "            while len(self.__coeficientes) < posicion:\n",
    "                self.__coeficientes+=[0]\n",
    "            self.__coeficientes[posicion-1]=valor\n",
    "        else:\n",
    "            self.__coeficientes[posicion-1]=valor\n",
    "\n",
    "\n",
    "            \n",
    "P1 = Polinomio([1, 2, 3,1,2])\n",
    "print (P1)\n",
    "print(P1.obtener_grado())\n",
    "print(P1.obtener_coeficientes(3))\n",
    "P1.cambiar_coeficiente(10,3)\n",
    "print(P1)\n"
   ]
  },
  {
   "cell_type": "code",
   "execution_count": 278,
   "metadata": {},
   "outputs": [
    {
     "name": "stdout",
     "output_type": "stream",
     "text": [
      "2 + 2x^1 + 4x^2 + 6x^3 + 4x^4 + 2x^5 + 4x^6 + 2x^7 + 3x^8 + 1x^9\n",
      "4 + 16x^2 + 60x^3 + 72x^4 + 32x^6 + 36x^7 + 90x^8 + 9x^9 + \n"
     ]
    }
   ],
   "source": [
    "class Polinomioperaciones(Polinomio):\n",
    "    def sumar(self,P):\n",
    "        for i in range(max(self.obtener_grado(),P.obtener_grado())+1):\n",
    "            self.cambiar_coeficiente(i+1,self.obtener_coeficientes(i+1)+P.obtener_coeficientes(i+1))\n",
    "            \n",
    "    def multiplicar(self,P):\n",
    "        pol = Polinomioperaciones([0])\n",
    "        for i in range(self.obtener_grado()+1):\n",
    "            for j in range(P.obtener_grado()+1):\n",
    "                pol.cambiar_coeficiente(i+j, pol.obtener_coeficientes(i+j)+ self.obtener_coeficientes(i+j)*P.obtener_coeficientes(i+j))\n",
    "        return pol\n",
    "\n",
    "\n",
    "P1 = Polinomioperaciones([1,2,3,4,1,2,3])\n",
    "P2 = Polinomio          ([1,0,1,2,3,0,1,2,3,1,0,0])\n",
    "\n",
    "P1.sumar(P2)\n",
    "print(P1)\n",
    "print(P1.multiplicar(P2))\n"
   ]
  },
  {
   "cell_type": "code",
   "execution_count": null,
   "metadata": {},
   "outputs": [],
   "source": []
  },
  {
   "cell_type": "code",
   "execution_count": null,
   "metadata": {},
   "outputs": [],
   "source": []
  },
  {
   "cell_type": "code",
   "execution_count": null,
   "metadata": {},
   "outputs": [],
   "source": []
  }
 ],
 "metadata": {
  "kernelspec": {
   "display_name": "Python 3",
   "language": "python",
   "name": "python3"
  },
  "language_info": {
   "codemirror_mode": {
    "name": "ipython",
    "version": 3
   },
   "file_extension": ".py",
   "mimetype": "text/x-python",
   "name": "python",
   "nbconvert_exporter": "python",
   "pygments_lexer": "ipython3",
   "version": "3.11.1"
  },
  "orig_nbformat": 4,
  "vscode": {
   "interpreter": {
    "hash": "eabca979b0553fa6d87e9a00c352604d3b703d4afc9641643dd42376492b80f6"
   }
  }
 },
 "nbformat": 4,
 "nbformat_minor": 2
}
