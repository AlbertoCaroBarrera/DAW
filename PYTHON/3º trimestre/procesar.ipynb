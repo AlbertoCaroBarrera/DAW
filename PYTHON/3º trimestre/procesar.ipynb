{
 "cells": [
  {
   "cell_type": "code",
   "execution_count": 30,
   "metadata": {},
   "outputs": [],
   "source": [
    "import csv\n",
    "import random\n",
    "import datetime\n",
    "import pandas as pd\n",
    "import numpy as np\n",
    "\n",
    "# Generar datos de ventas ficticios\n",
    "productos = ['Producto 1', 'Producto 2', 'Producto 3']\n",
    "paises = ['País 1', 'País 2', 'País 3']\n",
    "ventas = []\n",
    "\n",
    "for i in range(1000):\n",
    "    venta = {}\n",
    "    venta['Fecha'] = datetime.date(\n",
    "        2022, random.randint(1, 12), random.randint(1, 28))\n",
    "    venta['Producto'] = random.choice(productos)\n",
    "    venta['País'] = random.choice(paises)\n",
    "    venta['Ventas'] = random.randint(100, 10000)\n",
    "    ventas.append(venta)\n",
    "\n",
    "# Escribir los datos en un archivo CSV\n",
    "with open('datos_ventas.csv', mode='w', newline='') as archivo_csv:\n",
    "    nombres_columnas = ['Fecha', 'Producto', 'País', 'Ventas']\n",
    "    escritor_csv = csv.DictWriter(archivo_csv, fieldnames=nombres_columnas)\n",
    "    escritor_csv.writeheader()\n",
    "    for venta in ventas:\n",
    "        escritor_csv.writerow(venta)\n"
   ]
  },
  {
   "attachments": {},
   "cell_type": "markdown",
   "metadata": {},
   "source": [
    "Desarrollar una aplicación en Python utilizando el paradigma de programación orientada a objetos y las librerías de pandas, numpy, matplotlib, datetime y folium.\n",
    "\n",
    "La aplicación a desarrollar permitirá procesar y analizar los datos de ventas de una empresa. Para ello, se debe definir una clase llamada \"DatosVentas\", que reciba como parámetro la ruta de un archivo CSV con los datos de ventas y que tenga un método llamado \"procesar_datos\" para agregar columnas al DataFrame de pandas con el mes y el año de la venta.\n",
    "Posteriormente, se debe definir una clase llamada \"AnalizadorVentas\" que reciba como parámetro una instancia de la clase \"DatosVentas\" y que tenga tres métodos: \"obtener_ventas_totales\", \"obtener_ventas_promedio_por_mes\" y \"obtener_productos_mas_vendidos\". Estos métodos deberán devolver la suma total de las ventas, las ventas promedio por mes y los productos más vendidos, respectivamente.\n",
    "Por último, se debe definir una clase llamada \"VisualizadorVentas\" que reciba como parámetro una instancia de la clase \"DatosVentas\" y que tenga cuatro métodos: \"graficar_ventas_totales\", \"graficar_ventas_promedio_por_mes\", \"graficar_productos_mas_vendidos\" y \"graficar_mapa_ventas\". Estos métodos deberán graficar la información obtenida en los métodos de la clase \"AnalizadorVentas\" y mostrar un mapa de calor con las ventas por país.\n",
    "\n",
    "Clase DatosVentas:\n",
    "inicializar: Método constructor que inicializa la instancia de la clase, toma como argumento la ruta del archivo CSV de ventas y carga los datos en un objeto DataFrame de pandas.\n",
    "procesar_datos: Este método procesa los datos de ventas y agrega dos nuevas columnas al objeto DataFrame: una columna para el mes de la venta y otra para el año de la venta.\n",
    "obtener_datos: Retorna el objeto DataFrame con los datos de ventas.\n",
    "Clase AnalizadorVentas:\n",
    "inicializar: Método constructor que inicializa la instancia de la clase, toma como argumento un objeto de la clase DatosVentas.\n",
    "obtener_ventas_totales: Retorna la suma total de las ventas.\n",
    "obtener_ventas_promedio_por_mes: Retorna un objeto DataFrame que contiene el promedio de ventas por mes y año.\n",
    "obtener_productos_mas_vendidos: Retorna un objeto DataFrame que contiene los n (el usuario debe indicar el valor de n) productos más vendidos.\n",
    "Clase VisualizadorVentas:\n",
    "init: Método constructor que inicializa la instancia de la clase, toma como argumento un objeto de la clase DatosVentas.\n",
    "graficar_ventas_totales: crea la evolución temporal de las ventas.\n",
    "graficar_ventas_promedio_por_mes:  gráfica que muestra el promedio de ventas por mes y año.\n",
    "graficar_productos_mas_vendidos: gráfica que muestra los n productos más vendidos.\n",
    "graficar_mapa_ventas: gráfica que muestra un mapa de calor de las ventas por país.\n",
    "\n"
   ]
  },
  {
   "cell_type": "code",
   "execution_count": 70,
   "metadata": {},
   "outputs": [],
   "source": [
    "class DatosVentas:\n",
    "    def __init__(self,ruta):\n",
    "        self.datos = pd.read_csv(ruta)\n",
    "        \n",
    "    def procesar_datos(self):\n",
    "        self.datos['Fechas'] = pd.to_datetime(self.datos['Fechas'])\n",
    "        self.datos['Mes'] = self.datos['Fechas'].dt.month\n",
    "        \n",
    "    def obtener_datos(self):\n",
    "        return self.datos\n",
    "    \n",
    "class AnalizadorVentas:\n",
    "    def __init__(self,datos_ventas):\n",
    "        self.datos_ventas = datos_ventas\n",
    "        \n",
    "    def obtener_ventas_totales(self):\n",
    "        return self.datos_ventas['Ventas'].sum()\n",
    "    \n",
    "    def obtener_ventas_promedio_por_mes(self):\n",
    "        return self.datos_ventas.groupby(['Año','Mes'])['Ventas'].mean().reset_index()\n",
    "    \n",
    "    def obtener_productos_mas_vendidos(self,n):\n",
    "        pass"
   ]
  },
  {
   "cell_type": "code",
   "execution_count": null,
   "metadata": {},
   "outputs": [],
   "source": []
  }
 ],
 "metadata": {
  "kernelspec": {
   "display_name": "Python 3",
   "language": "python",
   "name": "python3"
  },
  "language_info": {
   "codemirror_mode": {
    "name": "ipython",
    "version": 3
   },
   "file_extension": ".py",
   "mimetype": "text/x-python",
   "name": "python",
   "nbconvert_exporter": "python",
   "pygments_lexer": "ipython3",
   "version": "3.8.10"
  },
  "orig_nbformat": 4
 },
 "nbformat": 4,
 "nbformat_minor": 2
}
