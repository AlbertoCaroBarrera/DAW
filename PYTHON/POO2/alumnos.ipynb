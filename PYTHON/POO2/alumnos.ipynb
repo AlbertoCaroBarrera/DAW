{
 "cells": [
  {
   "attachments": {},
   "cell_type": "markdown",
   "metadata": {},
   "source": [
    "Una clase alumno con los siguientes atributos públicos\n",
    "- nombre: guarda el nombre del alumno, como una cadena\n",
    "- notas: guarda las notas del alumno, como una lista de números reales mayores o iguales que 0.    \n",
    "y métodos públicos:    \n",
    "- inicializar: inicializa el alumno con el nombre especificado y sin ninguna nota\n",
    "- representar: devuelve una cadena representando los datos del alumno.\n",
    "- poner_nota: añade la nota especificada al final de la lista de notas del alumno.\t \n",
    "\n",
    "Una clase asignatura con los siguientes atributos públicos\n",
    "- nombre: guarda el nombre de la asignatura, como una cadena.\n",
    "- alumnos: guarda los alumnos de la asignatura, como una lista de instancias de la clase alumno.    \n",
    "y métodos públicos:\n",
    "- inicializar:inicia la asignatura con el nombre especificado y sin ningún alumno.\n",
    "- representar: devuelve una cadena representando los datos de la asignatura: nombre y datos de los alumnos.\n",
    "- incluir_alumno: incluye el alumno especificadoal final de la lista de alumnos de la asignatura.\n",
    "- quitar_alumno: quita de la lista de alumnos de la asignatura aquel cuyo nombre se especifica.    \n",
    "\n",
    "Una clase Evaluación que herede de la clase anterior y añada los siguientes métodos públicos:\n",
    "- nota_final: devuelve la nota final de aquel alumno cuyo nombre es el especificado. Esta nota final se calcula sumando todas las notas del alumno y teniendo en cuenta que no puede sobrepasar la nota máxima de 10.\n",
    "- evaluar_asignatura: para cada alumno incluido en la asignatura escribe en pantalla su nombre y la nota final que le corresponde.\n"
   ]
  },
  {
   "attachments": {},
   "cell_type": "markdown",
   "metadata": {},
   "source": [
    "<pre>\n",
    "\n",
    "Programa Alumno\n",
    "\n",
    "Inicio Programa\n",
    "    Clase Alumno\n",
    "    atributos\n",
    "        Publico cadena Nombre: nombre\n",
    "        Publico lista notas: lista\n",
    "    Inicio clase\n",
    "\n",
    "    público procedimiento inicializar(Alumno:propio,Cadena:nombre,Lista:Lista)\n",
    "    Inicio procedimiento\n",
    "        propio.nombre = nombre\n",
    "        propio.notas = lista\n",
    "    Fin procedimiento\n",
    "\n",
    "    público cadena funcion representar(Alumno:propio)\n",
    "    Inicio funcion\n",
    "        Para i en propio.notas:\n",
    "            cadena += f'{i} '\n",
    "        devolver f'Nombre: {propio.nombre} \\nNotas: {cadena}'\n",
    "    Fin funcion\n",
    "\n",
    "    publico procedimiento poner_nota(Alumno:propio,Entero:nota)    \n",
    "    Inicio procedimiento\n",
    "        propio.notas añadimos al final nota\n",
    "    Fin procedimiento\n",
    "\n",
    "Fin clase\n",
    "\n",
    "    Clase Asignatura\n",
    "    atributos\n",
    "        Publico cadena Nombre: nombre\n",
    "        Publico lista alumnos: alumnos\n",
    "    Inicio clase\n",
    "\n",
    "    publico procedimiento inicializar(nombre,alumnos)\n",
    "    Inicio procedimiento\n",
    "        propio.nombre = nombre\n",
    "        propio.alumnos = alumnos\n",
    "    Fin procedimiento\n",
    "\n",
    "    publico cadena funcion representar(Asignatura:propio)\n",
    "    Inicio funcion\n",
    "        cadena = ''\n",
    "        para i en self.alumnos:\n",
    "            cadena += f'{i}\\n'\n",
    "        devolver f'Nombre: {propio.nombre} \\nAlumnos: \\n{cadena}'\n",
    "    Fin funcion\n",
    "\n",
    "    publico procedimiento incluir alumno(Asignatura:propio,Alumno:Alumno)\n",
    "    Inicio procedimiento\n",
    "        propio.alumnos añadimos al final alumno\n",
    "    fin procedimiento\n",
    "\n",
    "    publico procedimiento quitar_alumnos(Asignatura:propio,alumno:alumno)\n",
    "    Inicio procedimiento\n",
    "        Si Alumno en self.alumnos:\n",
    "            propio.alumnos borramos de esa lista a (Alumno)\n",
    "        En otro caso:\n",
    "            f'El Alumno {Alumno} no pertenece a esa asignatura'\n",
    "    Fin procedimiento\n",
    "Fin clase\n",
    "\n",
    "    Clase Evaluacion(Asignatura)\n",
    "\n",
    "    publico cadena funcion nota_final(Evaluacion:propio, cadena:nombre)\n",
    "        para alumno en propio.alumnos:\n",
    "                si alumno.nombre == nombre y sum(alumno.notas)<=10:\n",
    "                    devolver f'La nota de {nombre} es {sum(alumno.notas)}'\n",
    "                en otro caso:\n",
    "                    devolver f'La nota de {nombre} es un 10'\n",
    "                \n",
    "    publico cadena funcion evaluar_asignatura(evaluar:propio):\n",
    "        cadena = ''\n",
    "        para alumno en self.alumnos:\n",
    "            cadena += propio.nota_final(alumno)+'\\n'\n",
    "        devolver cadena\n",
    "        "
   ]
  },
  {
   "cell_type": "code",
   "execution_count": 81,
   "metadata": {},
   "outputs": [],
   "source": [
    "class Alumno:\n",
    "    def __init__(self, nombre, lista=[]):\n",
    "        self.nombre = nombre\n",
    "        self.notas = lista\n",
    "\n",
    "    def __str__(self):\n",
    "        cadena = ''\n",
    "        for i in self.notas:\n",
    "            cadena += f'{i} '\n",
    "        return f'Nombre: {self.nombre} \\nNotas: {cadena}'\n",
    "\n",
    "    def poner_nota(self, nota):\n",
    "        self.notas.append(nota)\n",
    "\n",
    "\n",
    "class Asignatura:\n",
    "\n",
    "    def __init__(self, nombre, alumnos=[]):\n",
    "        self.nombre = nombre\n",
    "        self.alumnos = alumnos\n",
    "\n",
    "    def __str__(self):\n",
    "        cadena = ''\n",
    "        for i in self.alumnos:\n",
    "            cadena += f'{i}\\n'\n",
    "        return f'Nombre: {self.nombre} \\nAlumnos: \\n{cadena}'\n",
    "\n",
    "    def incluir_alumnos(self, Alumno):\n",
    "        self.alumnos.append(Alumno)\n",
    "\n",
    "    def quitar_alumnos(self, Alumno):\n",
    "        if Alumno in self.alumnos:\n",
    "            self.alumnos.remove(Alumno)\n",
    "        else:\n",
    "            f'El Alumno {Alumno} no pertenece a esa asignatura'\n",
    "\n",
    "\n",
    "class Evaluacion(Asignatura):\n",
    "\n",
    "    def nota_final(self, nombre):\n",
    "        for alumno in self.alumnos:\n",
    "                if alumno.nombre == nombre and sum(alumno.notas)<=10:\n",
    "                    return f'La nota de {nombre} es {sum(alumno.notas)}'\n",
    "                else:\n",
    "                    return f'La nota de {nombre} es un 10'\n",
    "                \n",
    "    def evaluar_asignatura(self):\n",
    "        cadena = ''\n",
    "        for alumno in self.alumnos:\n",
    "            cadena += self.nota_final(alumno)+'\\n'\n",
    "        return cadena\n",
    "        \n",
    "            "
   ]
  },
  {
   "cell_type": "code",
   "execution_count": 82,
   "metadata": {},
   "outputs": [
    {
     "name": "stdout",
     "output_type": "stream",
     "text": [
      "Nombre: Miguel \n",
      "Notas: 5 5 3 \n"
     ]
    }
   ],
   "source": [
    "A = Alumno('Miguel',[5,5,3])\n",
    "print(A)"
   ]
  },
  {
   "cell_type": "code",
   "execution_count": 83,
   "metadata": {},
   "outputs": [
    {
     "name": "stdout",
     "output_type": "stream",
     "text": [
      "Nombre: Lengua \n",
      "Alumnos: \n",
      "Nombre: Miguel \n",
      "Notas: 5 5 3 \n",
      "\n",
      "Nombre: Lengua \n",
      "Alumnos: \n",
      "Nombre: Miguel \n",
      "Notas: 5 5 3 \n",
      "Nombre: Miguel \n",
      "Notas: 5 5 3 \n",
      "\n",
      "Nombre: Lengua \n",
      "Alumnos: \n",
      "Nombre: Miguel \n",
      "Notas: 5 5 3 \n",
      "\n"
     ]
    }
   ],
   "source": [
    "S = Asignatura('Lengua',[A])\n",
    "print(S)\n",
    "S.incluir_alumnos(A)\n",
    "print(S)\n",
    "S.quitar_alumnos(A)\n",
    "print(S)"
   ]
  },
  {
   "cell_type": "code",
   "execution_count": 84,
   "metadata": {},
   "outputs": [
    {
     "name": "stdout",
     "output_type": "stream",
     "text": [
      "Nombre: primera \n",
      "Alumnos: \n",
      "Nombre: Miguel \n",
      "Notas: 5 5 3 \n",
      "Nombre: Miguel \n",
      "Notas: 5 5 3 \n",
      "\n",
      "La nota de Nombre: Miguel \n",
      "Notas: 5 5 3  es un 10\n",
      "La nota de Nombre: Miguel \n",
      "Notas: 5 5 3  es un 10\n",
      "\n"
     ]
    }
   ],
   "source": [
    "E = Evaluacion('primera',[A,A])\n",
    "print(E)\n",
    "E.nota_final('Miguel')\n",
    "print(E.evaluar_asignatura())"
   ]
  },
  {
   "cell_type": "code",
   "execution_count": null,
   "metadata": {},
   "outputs": [],
   "source": []
  }
 ],
 "metadata": {
  "kernelspec": {
   "display_name": "Python 3",
   "language": "python",
   "name": "python3"
  },
  "language_info": {
   "codemirror_mode": {
    "name": "ipython",
    "version": 3
   },
   "file_extension": ".py",
   "mimetype": "text/x-python",
   "name": "python",
   "nbconvert_exporter": "python",
   "pygments_lexer": "ipython3",
   "version": "3.11.1"
  },
  "orig_nbformat": 4,
  "vscode": {
   "interpreter": {
    "hash": "eabca979b0553fa6d87e9a00c352604d3b703d4afc9641643dd42376492b80f6"
   }
  }
 },
 "nbformat": 4,
 "nbformat_minor": 2
}
