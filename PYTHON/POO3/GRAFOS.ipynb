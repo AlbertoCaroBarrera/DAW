{
 "cells": [
  {
   "attachments": {},
   "cell_type": "markdown",
   "metadata": {},
   "source": [
    "\n",
    "### Ejercicio 10\n",
    "Un grafo es un par G = (V, E) de tal forma que V es el conjunto de vértices y E es el conjunto de ejes (uniones entre dos vértices) del grafo. Numerando los vértices de G podemos considerar que V ={ 0,...,n-1},  para algún número entero positivo n, y que los elementos de E son pares de la forma (u, v) con 0 <= u < v < n\n",
    "\n",
    "El orden de un grafo G = (V, E) es el número de sus vértices (|V|) y el tamaño es el número de sus ejes (|E|). Dos vértices u , v Є V, con u < v, se dice que son adyacentes si están unidos por algún eje, es decir, si (u, v)  Є E.\n",
    "\n",
    "Es posible colorear un grafo asignando a cada vértice del mismo un determinado color (que para este ejercicio consideraremos que es un número entero positivo) de un conjunto de ellos prefijado de antemano.. Diremos entonces que esa asignación es una coloración del grafo si para cualquier par de vértices adyacentes los colores asignados a esos vértices son distintos.\n",
    "\n",
    "Una clase Grafo con los siguientes atributos privados\n",
    "vértices: guarda el número de vértices del grafo como un número entero positivo.\n",
    "ejes: guarda el conjunto de ejes del grafo como una lista de tuplas.\n",
    "y métodos públicos\n",
    " inicializar: establece el número de vértices y el conjunto de ejes sy del grafo.\n",
    "obtener_orden: devuelve el orden del grafo.\n",
    "obtener_tamaño: devuelve el tamaño del grafo.\n",
    "son_adyacentes: determina si los vértices especificados son o no adyacentes.\n",
    "\n",
    "Una clase GrafoColoreado que herede de la clase anterior y añada el atributo privado\n",
    "colores: guarda la asignación de colores como una lista de números enteros positivos, de tal forma que el elemento u-ésimo de esa lista es el color asignado al vértice u del grafo.\n",
    "extienda el método inicializar para que además inicialice este atributo de tal forma que los vértices no tengan asignado ningún color (es decir, que tengan asignado el «color» None), y añada los métodos públicos.\n",
    "obtener_color_vértice: devuelve el color asignado al vértice especificado.\n",
    "colorear_vértice: asigna al vértice indicado el color especificado.\n",
    "comprobar_coloración: determina si la asignación de colores a los vértices es o no una coloración (es decir, que todos los vértices tengan asignado algún color y que además se cumpla la propiedad indicada más arriba).\n",
    "\n",
    "\n"
   ]
  },
  {
   "cell_type": "markdown",
   "metadata": {},
   "source": []
  },
  {
   "cell_type": "code",
   "execution_count": 103,
   "metadata": {},
   "outputs": [],
   "source": [
    "class Grafo:\n",
    "    def __init__(self,V,E=[]):   \n",
    "        self.__vertices = V\n",
    "        self.__ejes = E\n",
    "\n",
    "    def obtener_orden(self):\n",
    "        return self.__vertices\n",
    "\n",
    "    def obtener_tamaño(self):\n",
    "        return len(self.__ejes)\n",
    "\n",
    "    def son_adyacentes(self,u,v):\n",
    "        if (u,v) in self.__ejes or (v,u) in self.__ejes:\n",
    "            return True\n",
    "        elif u >= self.__vertices or v >= self.__vertices:\n",
    "            raise ValueError(\"Este vertice no existe\")\n",
    "        else:\n",
    "            return False\n",
    "\n",
    "class GrafoColoreado(Grafo):\n",
    "\n",
    "    def __init__(self,V,E,lista=[]):\n",
    "        super().__init__(V,E)\n",
    "        n = self.obtener_orden()\n",
    "        if len(lista) != n:\n",
    "            while n != 0:\n",
    "                lista.append(None)\n",
    "                n -= 1\n",
    "        self.__colores = lista\n",
    "\n",
    "    def obtener_color_vertice(self,vertice):\n",
    "        if vertice > (self.obtener_orden()-1):\n",
    "            raise ValueError(\"No existe ese vertice\")\n",
    "        else:\n",
    "            return self.__colores[vertice]\n",
    "\n",
    "    def colorear_vertice(self,vertice,color):\n",
    "        self.__colores[vertice] = color\n",
    "\n",
    "    def comprobar_coloracion(self):\n",
    "        for u,v in self.__ejes:\n",
    "            if self.__colores[u] == self.__colores[v]:\n",
    "                return False\n",
    "            elif (self.__colores[v] == None) or (self.__colores[u] ==None):\n",
    "                return False\n",
    "            else:\n",
    "                return True"
   ]
  },
  {
   "cell_type": "code",
   "execution_count": 104,
   "metadata": {},
   "outputs": [],
   "source": [
    "G = Grafo(4,[(0,1),(0,2),(1,2),(1,3)])"
   ]
  },
  {
   "cell_type": "code",
   "execution_count": 105,
   "metadata": {},
   "outputs": [],
   "source": [
    "G2 = GrafoColoreado(4,[(0,1),(0,2),(1,2),(1,3)],[1,1,2])"
   ]
  },
  {
   "cell_type": "code",
   "execution_count": 106,
   "metadata": {},
   "outputs": [
    {
     "name": "stdout",
     "output_type": "stream",
     "text": [
      "1\n"
     ]
    }
   ],
   "source": [
    "print(G2.obtener_color_vertice(0))"
   ]
  },
  {
   "cell_type": "code",
   "execution_count": 107,
   "metadata": {},
   "outputs": [],
   "source": [
    "G2.colorear_vertice(0,3)"
   ]
  }
 ],
 "metadata": {
  "kernelspec": {
   "display_name": "Python 3",
   "language": "python",
   "name": "python3"
  },
  "language_info": {
   "codemirror_mode": {
    "name": "ipython",
    "version": 3
   },
   "file_extension": ".py",
   "mimetype": "text/x-python",
   "name": "python",
   "nbconvert_exporter": "python",
   "pygments_lexer": "ipython3",
   "version": "3.11.1"
  },
  "orig_nbformat": 4,
  "vscode": {
   "interpreter": {
    "hash": "eabca979b0553fa6d87e9a00c352604d3b703d4afc9641643dd42376492b80f6"
   }
  }
 },
 "nbformat": 4,
 "nbformat_minor": 2
}
