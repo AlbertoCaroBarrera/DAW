{
 "cells": [
  {
   "attachments": {},
   "cell_type": "markdown",
   "metadata": {},
   "source": [
    "Figura 1: Tres posibles jugadas del juego de las avalanchas\n",
    "\n",
    "Una clase TableroDeAvalancha con los siguientes atributos públicos \n",
    "tablero: guarda el tablero de juego como una matriz cuadrada 6 x 6 cuyos elementos son números indicando la cantidad de discos que contiene cada casilla.\n",
    "y métodos públicos\n",
    "inicializar: establece el estado inicial del tablero, según se muestra en la figura 1.\n",
    "ver_discos_casilla: devuelve la cantidad de discos contenida en la casilla especificada.\n",
    "aumentar_discos_casilla: apila un disco adicional en la casilla especificada.\n",
    "reiniciar_casilla: retira todos los discos de la casilla especificada.\n",
    "representar: devuelve una representación del tablero, donde cada fila se representa en una línea diferente.\n",
    "Una clase Avalancha que herede de la clase anterior y añada los atributos público.\n",
    "turno: 0 ó 1, según le toque jugar al primero al segundo jugador.\n",
    "puntuación: lista con las puntuaciones de ambos jugadores. \n",
    "redefina el método inicializar para que además inicialice estos atributos de tal forma que empiece jugando el jugador 0 y la puntuación inicial de ambos jugadores sea 0, y añada los métodos públicos.\n",
    "realizar_jugada: apila un disco en cada una de las tres casillas especificadas por el jugador que tiene el turno, incrementando en 1 su puntuación por cada casilla que explote. Además, debe concluir escribiendo en pantalla las puntuaciones de ambos jugadores y el nuevo estado del tablero de juego y, por supuesto, debe cambiar el turno.\n",
    "explotar_casilla: busca en el tablero, de izquierda a derecha y de arriba a abajo, una casilla con 4 o más discos, haciendo que explote en caso de encontrarla. Debe devolver un valor lógico que indique si ha encontrado o no una tal casilla.\n"
   ]
  },
  {
   "attachments": {},
   "cell_type": "markdown",
   "metadata": {},
   "source": [
    "clase TableroDeAvalancha:\n",
    "    función inicializar(propio):\n",
    "        matriz = []\n",
    "        para i en rango(6):\n",
    "            lista = []\n",
    "            para j en rango(6):\n",
    "                si (i+j)%2 == 0:\n",
    "                    lista.agregar(1)\n",
    "                sino:\n",
    "                    lista.agregar(2)\n",
    "            matriz.agregar(lista)\n",
    "        self.tablero = matriz\n",
    "\n",
    "    función __str__(self):\n",
    "        devolver rep(self.tablero)\n",
    "\n",
    "    función ver_discos_casillas(self, i, j):\n",
    "        devolver self.tablero[i][j]\n",
    "\n",
    "    función aumentar_discos_casillas(self, i, j):\n",
    "        si i <= 5 y j <= 5 y i >= 0 y j >= 0:\n",
    "            self.tablero[i][j] += 1\n",
    "        sino:\n",
    "            pasar\n",
    "\n",
    "    función reiniciar_casilla(self, i, j):\n",
    "        self.tablero[i][j] = 0\n",
    "\n",
    "\n",
    "clase Avalancha(TableroDeAvalancha):\n",
    "    función __init__(self):\n",
    "        matriz = []\n",
    "        para i en rango(6):\n",
    "            lista = []\n",
    "            para j en rango(6):\n",
    "                si (i+j)%2 == 0:\n",
    "                    lista.agregar(1)\n",
    "                sino:\n",
    "                    lista.agregar(2)\n",
    "            matriz.agregar(lista)\n",
    "\n",
    "        self.tablero = matriz\n",
    "        self.turno = 0\n",
    "        self.puntuacion = [0,0]\n",
    "\n",
    "    función explotar_casilla(self):\n",
    "        a = Falso\n",
    "\n",
    "        para i en rango(6):\n",
    "            para j en rango(6):\n",
    "                si self.ver_discos_casillas(i, j) >= 4:\n",
    "                    a = Verdadero\n",
    "                    self.reiniciar_casilla(i, j)\n",
    "                    self.aumentar_discos_casillas(i-1, j)\n",
    "                    self.aumentar_discos_casillas(i+1, j)\n",
    "                    self.aumentar_discos_casillas(i, j-1)\n",
    "                    self.aumentar_discos_casillas(i, j+1)\n",
    "        devolver a\n",
    "\n",
    "    función realizar_jugada(self, tupla, tupla2, tupla3):\n",
    "        a1, b1 = tupla\n",
    "        a2, b2 = tupla2\n",
    "        a3, b3 = tupla3\n",
    "        self.aumentar_discos_casillas(a1, b1)\n",
    "        self.aumentar_discos_casillas(a2, b2)\n",
    "        self.aumentar_discos_casillas(a3, b3)\n",
    "        para i en rango(6):\n",
    "            para j en rango(6):\n",
    "                si self.ver_discos_casillas(i, j) >= 4:\n",
    "                    self.explotar_casilla()\n"
   ]
  },
  {
   "cell_type": "code",
   "execution_count": 36,
   "metadata": {},
   "outputs": [],
   "source": [
    "\n",
    "def fila(l):\n",
    "    cadena = ''\n",
    "    while len(l) > 0:\n",
    "        cadena += str(l[0]) + ' '\n",
    "        l = l[1:]\n",
    "    return cadena\n",
    "def rep(l):\n",
    "    cadena = ''\n",
    "    for i in range(len(l)):\n",
    "        cadena += (fila(l[i])) + '\\n'\n",
    "    return cadena\n",
    "\n",
    "class TableroDeAvalancha:\n",
    "    def __init__(self):\n",
    "        matriz = []\n",
    "        for i in range(6):\n",
    "            lista = []\n",
    "            for j in range(6):\n",
    "                if (i+j)%2 == 0:\n",
    "                    lista.append(1)\n",
    "                else:\n",
    "                    lista.append(2)\n",
    "            matriz.append(lista)\n",
    "        self.tablero = matriz\n",
    "\n",
    "    def __str__(self):\n",
    "        return rep(self.tablero)\n",
    "    \n",
    "    def ver_discos_casillas(self,i,j):\n",
    "        return self.tablero[i][j]\n",
    "        \n",
    "    def aumentar_discos_casillas(self,i,j):\n",
    "        if i <=5 and j <=5 and i >=0 and j >=0:\n",
    "            self.tablero[i][j] += 1\n",
    "        else:\n",
    "            pass\n",
    "        \n",
    "    def reiniciar_casilla(self,i,j):\n",
    "        self.tablero[i][j] = 0\n",
    "    \n",
    "class Avalancha(TableroDeAvalancha):\n",
    "    def __init__(self):\n",
    "        matriz = []\n",
    "        for i in range(6):\n",
    "            lista = []\n",
    "            for j in range(6):\n",
    "                if (i+j)%2 == 0:\n",
    "                    lista.append(1)\n",
    "                else:\n",
    "                    lista.append(2)\n",
    "            matriz.append(lista)\n",
    "            \n",
    "        self.tablero = matriz\n",
    "        self.turno = 0\n",
    "        self.puntuacion = [0,0]\n",
    "        \n",
    "    def explotar_casilla(self):\n",
    "        a = False\n",
    "        \n",
    "        for i in range(6):\n",
    "            for j in range(6):\n",
    "                if self.ver_discos_casillas(i,j)>=4:\n",
    "                    a = True\n",
    "                    self.reiniciar_casilla(i,j)\n",
    "                    self.aumentar_discos_casillas(i-1,j)\n",
    "                    self.aumentar_discos_casillas(i+1,j)\n",
    "                    self.aumentar_discos_casillas(i,j-1)\n",
    "                    self.aumentar_discos_casillas(i,j+1)\n",
    "        return a\n",
    "\n",
    "\n",
    "    def realizar_jugada(self,jugadas):\n",
    "        if len(jugadas)!=3:\n",
    "            print('El número de jugadas no es correcta')\n",
    "        else:\n",
    "            for i,j in jugadas:\n",
    "                self.aumentar_discos_casillas(i, j)\n",
    "                \n",
    "\n",
    "            while self.explotar_casilla()==True:\n",
    "                self.puntuacion[self.turno]+=1\n",
    "            for x in range(2):\n",
    "                print(\"Jugador \"+str(self.turno)+\" :\"+str(self.puntuacion[x])+\"\\n\")\n",
    "            print(\"\\n\")\n",
    "            print(self.__str__())\n",
    "            self.turno=(self.turno+1)%2\n"
   ]
  },
  {
   "cell_type": "code",
   "execution_count": 37,
   "metadata": {},
   "outputs": [
    {
     "name": "stdout",
     "output_type": "stream",
     "text": [
      "1 2 1 2 1 2 \n",
      "2 1 2 1 2 1 \n",
      "1 2 1 2 1 2 \n",
      "2 1 2 1 2 1 \n",
      "1 2 1 2 1 2 \n",
      "2 1 2 1 2 1 \n",
      "\n"
     ]
    }
   ],
   "source": [
    "T = Avalancha()\n",
    "\n",
    "print(T)\n"
   ]
  },
  {
   "cell_type": "code",
   "execution_count": 38,
   "metadata": {},
   "outputs": [
    {
     "name": "stdout",
     "output_type": "stream",
     "text": [
      "Jugador 0 :0\n",
      "\n",
      "Jugador 0 :0\n",
      "\n",
      "\n",
      "\n",
      "1 2 1 2 1 2 \n",
      "2 1 2 1 3 1 \n",
      "1 2 1 2 1 2 \n",
      "2 2 2 1 2 1 \n",
      "1 2 1 2 1 2 \n",
      "2 1 3 1 2 1 \n",
      "\n"
     ]
    }
   ],
   "source": [
    "T.realizar_jugada([(1,4),(3,1),(5,2)])\n"
   ]
  },
  {
   "cell_type": "code",
   "execution_count": 39,
   "metadata": {},
   "outputs": [
    {
     "name": "stdout",
     "output_type": "stream",
     "text": [
      "Jugador 1 :0\n",
      "\n",
      "Jugador 1 :1\n",
      "\n",
      "\n",
      "\n",
      "1 2 1 2 2 0 \n",
      "2 1 2 1 3 2 \n",
      "1 2 1 2 1 2 \n",
      "2 2 2 1 2 1 \n",
      "1 2 1 2 1 2 \n",
      "2 1 3 1 2 1 \n",
      "\n"
     ]
    }
   ],
   "source": [
    "T.realizar_jugada ([(0,5),(0,5),(0,5)])"
   ]
  },
  {
   "cell_type": "code",
   "execution_count": 40,
   "metadata": {},
   "outputs": [
    {
     "name": "stdout",
     "output_type": "stream",
     "text": [
      "Jugador 0 :1\n",
      "\n",
      "Jugador 0 :1\n",
      "\n",
      "\n",
      "\n",
      "1 2 1 3 1 1 \n",
      "2 1 2 2 0 3 \n",
      "1 2 1 2 2 2 \n",
      "2 2 2 1 2 1 \n",
      "1 2 1 2 1 2 \n",
      "2 1 3 1 2 1 \n",
      "\n"
     ]
    }
   ],
   "source": [
    "T.realizar_jugada([(0,4),(0,4),(1,4)])\n"
   ]
  },
  {
   "cell_type": "code",
   "execution_count": 41,
   "metadata": {},
   "outputs": [
    {
     "name": "stdout",
     "output_type": "stream",
     "text": [
      "Jugador 1 :1\n",
      "\n",
      "Jugador 1 :3\n",
      "\n",
      "\n",
      "\n",
      "2 2 1 3 1 2 \n",
      "2 1 2 2 1 0 \n",
      "1 2 1 2 3 1 \n",
      "2 2 2 1 2 2 \n",
      "1 2 1 2 1 2 \n",
      "2 1 3 1 2 1 \n",
      "\n"
     ]
    }
   ],
   "source": [
    "T.realizar_jugada([(2,5),(2,5),(0,0)])\n"
   ]
  },
  {
   "cell_type": "code",
   "execution_count": 1,
   "metadata": {},
   "outputs": [
    {
     "data": {
      "text/plain": [
       "(5, 5)"
      ]
     },
     "execution_count": 1,
     "metadata": {},
     "output_type": "execute_result"
    }
   ],
   "source": [
    "(5,5)"
   ]
  },
  {
   "cell_type": "code",
   "execution_count": 2,
   "metadata": {},
   "outputs": [
    {
     "data": {
      "text/plain": [
       "2"
      ]
     },
     "execution_count": 2,
     "metadata": {},
     "output_type": "execute_result"
    }
   ],
   "source": [
    "5%3"
   ]
  },
  {
   "cell_type": "code",
   "execution_count": 3,
   "metadata": {},
   "outputs": [
    {
     "data": {
      "text/plain": [
       "(7, 3)"
      ]
     },
     "execution_count": 3,
     "metadata": {},
     "output_type": "execute_result"
    }
   ],
   "source": [
    "(7,3)"
   ]
  },
  {
   "cell_type": "code",
   "execution_count": 5,
   "metadata": {},
   "outputs": [
    {
     "data": {
      "text/plain": [
       "(6, 3)"
      ]
     },
     "execution_count": 5,
     "metadata": {},
     "output_type": "execute_result"
    }
   ],
   "source": [
    "(7-7%3,3-3%3)"
   ]
  },
  {
   "cell_type": "code",
   "execution_count": null,
   "metadata": {},
   "outputs": [],
   "source": []
  }
 ],
 "metadata": {
  "kernelspec": {
   "display_name": "Python 3",
   "language": "python",
   "name": "python3"
  },
  "language_info": {
   "codemirror_mode": {
    "name": "ipython",
    "version": 3
   },
   "file_extension": ".py",
   "mimetype": "text/x-python",
   "name": "python",
   "nbconvert_exporter": "python",
   "pygments_lexer": "ipython3",
   "version": "3.11.1"
  },
  "orig_nbformat": 4,
  "vscode": {
   "interpreter": {
    "hash": "eabca979b0553fa6d87e9a00c352604d3b703d4afc9641643dd42376492b80f6"
   }
  }
 },
 "nbformat": 4,
 "nbformat_minor": 2
}
